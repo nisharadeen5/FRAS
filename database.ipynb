{
 "cells": [
  {
   "cell_type": "code",
   "execution_count": null,
   "metadata": {},
   "outputs": [],
   "source": [
    "import pandas as pd\n",
    "import mysql.connector"
   ]
  },
  {
   "cell_type": "code",
   "execution_count": null,
   "metadata": {},
   "outputs": [],
   "source": [
    "aniData=pd.read_csv(\"test.csv\",index_col=False,delimiter=',')\n",
    "aniData.head()"
   ]
  },
  {
   "cell_type": "code",
   "execution_count": null,
   "metadata": {},
   "outputs": [],
   "source": [
    "import mysql.connector as sq\n",
    "conn=sq.connect(host=\"localhost\",username=\"root\",password=\"pentonic1@3\",database=\"face_recognition\")\n",
    "cursor=conn.cursor()\n",
    "for i,row in aniData.iterrows():\n",
    "    sql=\"Insert into arabic VALUES(%s,%s,%s,%s,%s)\"\n",
    "    cursor.execute(sql,tuple(row))\n",
    "    print(\"Saved\")\n",
    "    conn.commit()\n"
   ]
  },
  {
   "cell_type": "code",
   "execution_count": 3,
   "metadata": {},
   "outputs": [],
   "source": [
    "from tkinter import filedialog as fd\n",
    "def browse():\n",
    "        filename = fd.askopenfilename()\n",
    "        #messagebox.showinfo(\"path\",filename)\n",
    "        return filename\n",
    "browse()\n",
    "\n",
    "def search():\n",
    "    file=browse()\n",
    "    print(file)\n",
    "search"
   ]
  },
  {
   "cell_type": "code",
   "execution_count": null,
   "metadata": {},
   "outputs": [],
   "source": [
    "from datetime import  datetime\n",
    "from datetime import  date\n",
    "today = str(date.today())\n",
    "today"
   ]
  },
  {
   "cell_type": "code",
   "execution_count": null,
   "metadata": {},
   "outputs": [],
   "source": [
    "import pandas as pd\n",
    "from datetime import datetime\n",
    "from datetime import  date\n",
    "subject=\"topics in se\"\n",
    "today = str(date.today())\n",
    "aniData=pd.read_csv(\"text.txt\",index_col=False,delimiter=',')\n",
    "aniData[\"Date\"] = today\n",
    "aniData[\"Status\"]=\"p\"\n",
    "aniData[\"Subject\"]=subject\n",
    "finalFile=\"text.csv\"\n",
    "aniData.to_csv(finalFile, index=False)\n",
    "\n",
    "aniData.head()"
   ]
  },
  {
   "cell_type": "code",
   "execution_count": null,
   "metadata": {},
   "outputs": [],
   "source": [
    "n=\"Ammar Mehmood\"\n",
    "c=\"SE\"\n",
    "i=\"1\"\n",
    "r=\"5\"\n",
    "d=\"Software Engineering\""
   ]
  },
  {
   "cell_type": "code",
   "execution_count": null,
   "metadata": {},
   "outputs": [],
   "source": [
    "def add_data():\n",
    "        try:\n",
    "                mydb = mysql.connector.connect(host=\"localhost\",username=\"root\",password=\"pentonic1@3\",database=\"face_recognition\")\n",
    "                mycursor = mydb.cursor()\n",
    "                sql = \"INSERT INTO current_attendance (id,name,roll,department,subject) VALUES (%s, %s,%s,%s,%s)\"\n",
    "                val = i,n,r,d,c\n",
    "                mycursor.execute(sql, val)\n",
    "                mydb.commit()\n",
    "                print(\"Success\",\"All Records are Saved!\")\n",
    "\n",
    "        except Exception as es:\n",
    "                print(\"due to \",es)"
   ]
  },
  {
   "cell_type": "code",
   "execution_count": null,
   "metadata": {},
   "outputs": [],
   "source": [
    "add_data()"
   ]
  },
  {
   "cell_type": "code",
   "execution_count": null,
   "metadata": {},
   "outputs": [],
   "source": [
    "mydb = mysql.connector.connect(host=\"localhost\",username=\"root\",password=\"pentonic1@3\",database=\"face_recognition\")\n",
    "\n",
    "mycursor = mydb.cursor()\n",
    "\n",
    "mycursor.execute(\"SELECT name FROM current_attendance\")\n",
    "\n",
    "myresult = mycursor.fetchall()\n",
    "\n",
    "for x in myresult:\n",
    "  print(x)\n",
    "  names=x[2:]"
   ]
  },
  {
   "cell_type": "code",
   "execution_count": null,
   "metadata": {},
   "outputs": [],
   "source": []
  },
  {
   "cell_type": "code",
   "execution_count": null,
   "metadata": {},
   "outputs": [],
   "source": [
    "def mylist():\n",
    "    mylist.append(x)\n",
    "    mylist"
   ]
  },
  {
   "cell_type": "code",
   "execution_count": null,
   "metadata": {},
   "outputs": [],
   "source": [
    "my_file = open(\"text.txt\", \"r\")\n",
    "        # reading the file\n",
    "data = my_file.read()\n",
    "        # replacing end splitting the text \n",
    "        # when newline ('\\n') is seen.\n",
    "data_into_list = data.split(\"\\n\")\n",
    "correctlist=data_into_list.pop()\n",
    "\n",
    "print(data_into_list)\n",
    "my_file.close()"
   ]
  },
  {
   "cell_type": "code",
   "execution_count": null,
   "metadata": {},
   "outputs": [],
   "source": [
    "import openpyxl\n",
    "from openpyxl import workbook,load_workbook\n",
    "from openpyxl import Workbook\n",
    "from openpyxl.utils import get_column_letter\n",
    "import datetime\n",
    "from datetime import date\n",
    "def attendance(listofnames):\n",
    "        column=0\n",
    "        today = date.today()\n",
    "        td=str(today)\n",
    "        datedata=\"\"\n",
    "        datad=0\n",
    "        column=0\n",
    "        today = date.today()\n",
    "        td=str(today)\n",
    "        wb=load_workbook('sheet.xlsx')\n",
    "        ws=wb.active\n",
    "        sheets = wb.sheetnames\n",
    "        ws = wb[sheets[0]]\n",
    "        dateindex=0\n",
    "        for dtrows in range(8,9):\n",
    "            for dtcol in range(3,11):\n",
    "                char=get_column_letter(dtcol)\n",
    "                val=ws[char+str(dtrows)].value\n",
    "                val=str(val)\n",
    "                datedata=val[0:10]\n",
    "                if td==datedata:\n",
    "                    dateindex=dtcol\n",
    "                    break\n",
    "        if td==datedata:\n",
    "            column=dateindex\n",
    "        else:\n",
    "            print(\"Date Error\")\n",
    "        rowdata=0\n",
    "        for rows in range(10,41):\n",
    "            for col in range(2,3):\n",
    "                char=get_column_letter(col)\n",
    "                val=ws[char+str(rows)].value\n",
    "                #print(val)\n",
    "                for i in listofnames:\n",
    "                    print(i)\n",
    "                    if i==val:\n",
    "                        print(\"match\")\n",
    "                        row=rowdata+rows\n",
    "                        #print(row)\n",
    "                        c1 = ws.cell(row, column)\n",
    "                        c1.value = \"P\" \n",
    "                else:\n",
    "                    print(\"No\")\n",
    "        \n",
    "        wb.save(\"C:/Users/Nishara/Desktop/Python-FYP-Face-Recognition-Attendence-System-master/Attendance/sheet3.xlsx\")"
   ]
  },
  {
   "cell_type": "code",
   "execution_count": null,
   "metadata": {},
   "outputs": [],
   "source": [
    "def txttolist():\n",
    "        my_file = open(\"text.txt\", \"r\")\n",
    "        # reading the file\n",
    "        data = my_file.read()\n",
    "        # replacing end splitting the text \n",
    "        # when newline ('\\n') is seen.\n",
    "        data_into_list = data.split(\"\\n\")\n",
    "        correctlist=data_into_list.pop()\n",
    "        my_file.close()\n",
    "attendance(data_into_list)"
   ]
  }
 ],
 "metadata": {
  "kernelspec": {
   "display_name": "Python 3.7.0 64-bit",
   "language": "python",
   "name": "python3"
  },
  "language_info": {
   "codemirror_mode": {
    "name": "ipython",
    "version": 3
   },
   "file_extension": ".py",
   "mimetype": "text/x-python",
   "name": "python",
   "nbconvert_exporter": "python",
   "pygments_lexer": "ipython3",
   "version": "3.10.8"
  },
  "orig_nbformat": 4,
  "vscode": {
   "interpreter": {
    "hash": "ea08b21ca3dc5f551d738177b41c70280eeaed80ed90e26c8d1fa2571c72b8fc"
   }
  }
 },
 "nbformat": 4,
 "nbformat_minor": 2
}
